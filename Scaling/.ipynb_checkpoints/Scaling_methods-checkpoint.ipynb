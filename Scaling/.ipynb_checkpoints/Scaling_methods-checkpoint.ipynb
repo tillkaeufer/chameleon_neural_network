{
 "cells": [
  {
   "cell_type": "markdown",
   "id": "auburn-teens",
   "metadata": {},
   "source": [
    "# Import the needed packages"
   ]
  },
  {
   "cell_type": "code",
   "execution_count": 1,
   "id": "sunset-sitting",
   "metadata": {},
   "outputs": [],
   "source": [
    "from sklearn.preprocessing import StandardScaler, RobustScaler, MinMaxScaler"
   ]
  },
  {
   "cell_type": "markdown",
   "id": "korean-delay",
   "metadata": {},
   "source": [
    "lets assume your data is called X_train/X_test and y_train/y_test"
   ]
  },
  {
   "cell_type": "markdown",
   "id": "negative-region",
   "metadata": {},
   "source": [
    "# StandardScaler\n",
    "\n",
    "This is the most popular scaler.\n",
    "\n",
    "\n",
    "It sets the mean of your feauters/targets to 0 and the standard deviation to 1"
   ]
  },
  {
   "cell_type": "code",
   "execution_count": null,
   "id": "collected-hardware",
   "metadata": {},
   "outputs": [],
   "source": [
    "scaler = StandardScaler() \n",
    "\n",
    "scaler.fit(X_train) #searching for the mean and std\n",
    "\n",
    "X_train = scaler.transform(X_train) # applying it to the trainings data\n",
    "X_test = scaler.transform(X_test) # and the same transformation to the test data "
   ]
  },
  {
   "cell_type": "markdown",
   "id": "adopted-attack",
   "metadata": {},
   "source": [
    "# MinMaxScaler\n",
    "\n",
    "This sets the lowest value of every feature/target to 0 and the highest value to 1"
   ]
  },
  {
   "cell_type": "code",
   "execution_count": null,
   "id": "buried-bankruptcy",
   "metadata": {},
   "outputs": [],
   "source": [
    "scaler = MinMaxScaler()  \n",
    "\n",
    "scaler.fit(X_train) #searching for lowest and highest\n",
    "\n",
    "X_train = scaler.transform(X_train)\n",
    "X_test = scaler.transform(X_test)"
   ]
  },
  {
   "cell_type": "markdown",
   "id": "marked-reminder",
   "metadata": {},
   "source": [
    "# RobustScaler\n",
    "\n",
    "Not to popular scaler.\n",
    "\n",
    "It sets the median of your feauters/targets to 0 and scales according to the quardile range"
   ]
  },
  {
   "cell_type": "code",
   "execution_count": null,
   "id": "faced-wright",
   "metadata": {},
   "outputs": [],
   "source": [
    "scaler = RobustScaler() \n",
    "\n",
    "scaler.fit(X_train) #searching for the median and quadrile\n",
    "\n",
    "X_train = scaler.transform(X_train) # applying it to the trainings data\n",
    "X_test = scaler.transform(X_test) # and the same transformation to the test data "
   ]
  },
  {
   "cell_type": "markdown",
   "id": "external-tourism",
   "metadata": {},
   "source": [
    "## Scaling should be done for the input and output data!!"
   ]
  }
 ],
 "metadata": {
  "kernelspec": {
   "display_name": "Python 3",
   "language": "python",
   "name": "python3"
  },
  "language_info": {
   "codemirror_mode": {
    "name": "ipython",
    "version": 3
   },
   "file_extension": ".py",
   "mimetype": "text/x-python",
   "name": "python",
   "nbconvert_exporter": "python",
   "pygments_lexer": "ipython3",
   "version": "3.8.5"
  }
 },
 "nbformat": 4,
 "nbformat_minor": 5
}
