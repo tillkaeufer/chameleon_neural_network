{
 "cells": [
  {
   "cell_type": "code",
   "execution_count": 1,
   "metadata": {},
   "outputs": [],
   "source": [
    "import numpy as np\n",
    "\n",
    "from sklearn.preprocessing import StandardScaler, RobustScaler, MinMaxScaler\n"
   ]
  },
  {
   "cell_type": "markdown",
   "metadata": {},
   "source": [
    "### Normalizing the data"
   ]
  },
  {
   "cell_type": "code",
   "execution_count": null,
   "metadata": {},
   "outputs": [],
   "source": [
    "\n",
    "norm_x, norm_y = True, True\n",
    "\n",
    "if norm_x:\n",
    "    X_scaler = StandardScaler()\n",
    "    X_scaler.fit(X_train)\n",
    "    \n",
    "    X_train = X_scaler.transform(X_train)\n",
    "    X_test  = X_scaler.transform(X_test)\n",
    "\n",
    "if norm_y:\n",
    "    Y_scaler = StandardScaler()\n",
    "    Y_scaler.fit(Y_train)\n",
    "    \n",
    "    Y_train = Y_scaler.transform(Y_train)"
   ]
  }
 ],
 "metadata": {
  "kernelspec": {
   "display_name": "Python 3",
   "language": "python",
   "name": "python3"
  },
  "language_info": {
   "codemirror_mode": {
    "name": "ipython",
    "version": 3
   },
   "file_extension": ".py",
   "mimetype": "text/x-python",
   "name": "python",
   "nbconvert_exporter": "python",
   "pygments_lexer": "ipython3",
   "version": "3.8.5"
  }
 },
 "nbformat": 4,
 "nbformat_minor": 4
}
