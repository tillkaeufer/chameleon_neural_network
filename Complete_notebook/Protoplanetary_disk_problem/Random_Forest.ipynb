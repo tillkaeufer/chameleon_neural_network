{
 "cells": [
  {
   "cell_type": "markdown",
   "id": "needed-telling",
   "metadata": {},
   "source": [
    "# Load data"
   ]
  },
  {
   "cell_type": "code",
   "execution_count": 2,
   "id": "genetic-ambassador",
   "metadata": {},
   "outputs": [],
   "source": [
    "import numpy as np"
   ]
  },
  {
   "cell_type": "code",
   "execution_count": 3,
   "id": "million-coupon",
   "metadata": {},
   "outputs": [],
   "source": [
    "X_train=np.load('../../Data/Protoplanetary_disk_problem/X_train.npy')\n",
    "X_test=np.load('../../Data/Protoplanetary_disk_problem/X_test.npy')\n",
    "y_train=np.load('../../Data/Protoplanetary_disk_problem/y_train.npy')\n",
    "y_test=np.load('../../Data/Protoplanetary_disk_problem/y_test.npy')"
   ]
  },
  {
   "cell_type": "code",
   "execution_count": 4,
   "id": "indie-active",
   "metadata": {},
   "outputs": [],
   "source": [
    "position=np.load('../../Data/Protoplanetary_disk_problem/position.npy')"
   ]
  },
  {
   "cell_type": "markdown",
   "id": "median-nebraska",
   "metadata": {},
   "source": [
    "# Scaling"
   ]
  },
  {
   "cell_type": "code",
   "execution_count": 5,
   "id": "enclosed-catholic",
   "metadata": {},
   "outputs": [],
   "source": [
    "from sklearn.preprocessing import StandardScaler, RobustScaler, MinMaxScaler"
   ]
  },
  {
   "cell_type": "code",
   "execution_count": 6,
   "id": "worthy-limit",
   "metadata": {},
   "outputs": [],
   "source": [
    "scaler = StandardScaler()\n",
    "scaler.fit(X_train)\n",
    "X_train = scaler.transform(X_train)\n",
    "X_test = scaler.transform(X_test)"
   ]
  },
  {
   "cell_type": "code",
   "execution_count": 7,
   "id": "practical-bloom",
   "metadata": {},
   "outputs": [],
   "source": [
    "scaler_y = StandardScaler()\n",
    "scaler_y.fit(y_train)\n",
    "y_train = scaler_y.transform(y_train)\n",
    "y_test = scaler_y.transform(y_test)"
   ]
  },
  {
   "cell_type": "markdown",
   "id": "shaped-butter",
   "metadata": {},
   "source": [
    "### Create the Random Forest and train it with the training data set.\n",
    "\n",
    "```n_estimators``` is the number of trees to train.\n",
    "\n",
    "```criterion``` defines the loss function, can be mse or mae,\n",
    "\n",
    "```n_jobs``` defines the number of processors to use, setting it to -1 will use the maximum available\n",
    "\n",
    "```max_features``` defines the subset of features (selected randomly) that the trees will look at to make the split\n",
    "\n",
    "```min_impurity_decrease``` is the minimum reduction in variance required for a branch to split. "
   ]
  },
  {
   "cell_type": "code",
   "execution_count": 8,
   "id": "radical-moore",
   "metadata": {},
   "outputs": [],
   "source": [
    "\n",
    "import sklearn as sk\n",
    "from sklearn import ensemble"
   ]
  },
  {
   "cell_type": "code",
   "execution_count": 9,
   "id": "productive-montreal",
   "metadata": {},
   "outputs": [
    {
     "data": {
      "text/plain": [
       "RandomForestRegressor(max_features=11, min_impurity_decrease=0.01, n_jobs=-1)"
      ]
     },
     "execution_count": 9,
     "metadata": {},
     "output_type": "execute_result"
    }
   ],
   "source": [
    "N_trees = 100\n",
    "\n",
    "model = sk.ensemble.RandomForestRegressor(n_estimators=N_trees, criterion='mse', n_jobs=-1, \n",
    "                                          max_features=11, min_impurity_decrease=0.01)\n",
    "\n",
    "model.fit(X_train, y_train)"
   ]
  },
  {
   "cell_type": "markdown",
   "id": "utility-completion",
   "metadata": {},
   "source": [
    "# Predict new stuff and scaling it back"
   ]
  },
  {
   "cell_type": "code",
   "execution_count": 10,
   "id": "honey-cheat",
   "metadata": {},
   "outputs": [],
   "source": [
    "y_true=scaler_y.inverse_transform(y_test)\n",
    "y_predict=scaler_y.inverse_transform(model.predict(X_test))\n",
    "y_true_train=scaler_y.inverse_transform(y_train)\n",
    "y_predict_train=scaler_y.inverse_transform(model.predict(X_train))\n"
   ]
  },
  {
   "cell_type": "markdown",
   "id": "front-lease",
   "metadata": {},
   "source": [
    "# Images"
   ]
  },
  {
   "cell_type": "code",
   "execution_count": 11,
   "id": "occupied-freeware",
   "metadata": {},
   "outputs": [],
   "source": [
    "import matplotlib.pyplot as plt\n",
    "%matplotlib inline\n",
    "\n",
    "plt.rcParams['figure.figsize'] = (9, 6)\n",
    "SMALL_SIZE = 15\n",
    "MEDIUM_SIZE = 20\n",
    "BIGGER_SIZE = 25\n",
    "colormap={0:'red',1:'green'}\n",
    "plt.rc('font', size=SMALL_SIZE)          # controls default text sizes\n",
    "plt.rc('axes', titlesize=SMALL_SIZE)     # fontsize of the axes title\n",
    "plt.rc('axes', labelsize=MEDIUM_SIZE)    # fontsize of the x and y labels\n",
    "plt.rc('xtick', labelsize=SMALL_SIZE)    # fontsize of the tick labels\n",
    "plt.rc('ytick', labelsize=SMALL_SIZE)    # fontsize of the tick labels\n",
    "plt.rc('legend', fontsize=SMALL_SIZE)    # legend fontsize\n",
    "plt.rc('figure', titlesize=BIGGER_SIZE)  # fontsize of the figure title"
   ]
  },
  {
   "cell_type": "code",
   "execution_count": 12,
   "id": "weekly-tongue",
   "metadata": {},
   "outputs": [],
   "source": [
    "def plot_sed(n,data=y_train):\n",
    "    plt.figure(figsize=(9,6))\n",
    "    plt.scatter(position,data[n],marker='+')\n",
    "    plt.xscale('log')\n",
    "    plt.grid()\n",
    "    plt.title(f'Model {n} of {len(data)}')\n",
    "    plt.xlabel(r'$ \\lambda \\, [\\mu m]$')\n",
    "    plt.ylabel(r'$ log(\\nu F_\\nu) [erg/cm^2/s]$')\n",
    "    plt.show()"
   ]
  },
  {
   "cell_type": "code",
   "execution_count": 13,
   "id": "violent-immigration",
   "metadata": {},
   "outputs": [
    {
     "data": {
      "image/png": "[encoded data removed]",
      "text/plain": [
       "<Figure size 648x432 with 1 Axes>"
      ]
     },
     "metadata": {
      "needs_background": "light"
     },
     "output_type": "display_data"
    }
   ],
   "source": [
    "plot_sed(10,data=y_true)"
   ]
  },
  {
   "cell_type": "code",
   "execution_count": 14,
   "id": "accredited-robin",
   "metadata": {},
   "outputs": [],
   "source": [
    "def compare_prediction_true(n,true_data=y_true,predicted_data=y_predict):\n",
    "    plt.figure(figsize=(9,6))\n",
    "    plt.scatter(position,true_data[n],marker='+',label='True')\n",
    "    plt.scatter(position,predicted_data[n],marker='+',label='Predicted')\n",
    "    plt.xscale('log')\n",
    "    plt.grid()\n",
    "    plt.legend()\n",
    "    plt.title(f'Model {n} of {len(true_data)}')\n",
    "    plt.xlabel(r'$ \\lambda \\, [\\mu m]$')\n",
    "    plt.ylabel(r'$ log(\\nu F_\\nu) [erg/cm^2/s]$')\n",
    "    plt.show()"
   ]
  },
  {
   "cell_type": "code",
   "execution_count": 15,
   "id": "brave-volleyball",
   "metadata": {},
   "outputs": [
    {
     "data": {
      "image/png": "[encoded data removed]",
      "text/plain": [
       "<Figure size 648x432 with 1 Axes>"
      ]
     },
     "metadata": {
      "needs_background": "light"
     },
     "output_type": "display_data"
    }
   ],
   "source": [
    "compare_prediction_true(10,true_data=y_true,predicted_data=y_predict)"
   ]
  },
  {
   "cell_type": "code",
   "execution_count": null,
   "id": "aerial-surname",
   "metadata": {},
   "outputs": [],
   "source": []
  }
 ],
 "metadata": {
  "kernelspec": {
   "display_name": "Python 3",
   "language": "python",
   "name": "python3"
  },
  "language_info": {
   "codemirror_mode": {
    "name": "ipython",
    "version": 3
   },
   "file_extension": ".py",
   "mimetype": "text/x-python",
   "name": "python",
   "nbconvert_exporter": "python",
   "pygments_lexer": "ipython3",
   "version": "3.8.5"
  }
 },
 "nbformat": 4,
 "nbformat_minor": 5
}
