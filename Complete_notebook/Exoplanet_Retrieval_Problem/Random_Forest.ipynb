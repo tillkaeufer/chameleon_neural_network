{
 "cells": [
  {
   "cell_type": "code",
   "execution_count": null,
   "metadata": {},
   "outputs": [],
   "source": [
    "import numpy as np\n",
    "import sklearn as sk\n",
    "from sklearn import ensemble\n",
    "import matplotlib.pyplot as plt\n",
    "from corner import corner"
   ]
  },
  {
   "cell_type": "markdown",
   "metadata": {},
   "source": [
    "This notebook will guide you through the process of training a random forest on synthetic transmission spectra of exoplanets to retrieve their temperature; H$_2$O, HCN and NH$_3$ abundances; and cloud opacities. \n",
    "\n",
    "The methods and data are from Márquez-Neila et al., 2018.\n",
    "\n",
    "### Random Forests\n",
    "\n",
    "A Random Forest is an ensemble of decision/regression trees. Basic regression trees partition a data set into smaller groups and then fit a simple model (constant) for each subgroup. Unfortunately, a single tree model tends to be highly unstable and a poor predictor. A Random Forest solves this by aggregating the predictions of the individual trees.\n"
   ]
  },
  {
   "attachments": {
    "iris.png": {
     "image/png": "[encoded data removed]"
    }
   },
   "cell_type": "markdown",
   "metadata": {},
   "source": [
    "![iris.png](attachment:iris.png)"
   ]
  },
  {
   "cell_type": "markdown",
   "metadata": {},
   "source": [
    "### Load the data\n",
    "\n",
    "```Train``` contains the training set of 80,000 synthetic spectra.\n",
    "\n",
    "```Test``` contains 20,000 synthetic spectra to evaluate the random forest once trained.\n",
    "\n",
    "```WASP12b``` contains the HST/WFC3 spectrum of WASP-12b, taken from Kreidberg et al., 2015."
   ]
  },
  {
   "cell_type": "code",
   "execution_count": null,
   "metadata": {},
   "outputs": [],
   "source": [
    "Train   = np.load('../Data/Exoplanet_Retrieval_Problem/training.npy')\n",
    "Test    = np.load('../Data/Exoplanet_Retrieval_Problem/testing.npy')\n",
    "WASP12b = np.loadtxt('../Data/Exoplanet_Retrieval_Problem/WASP-12b_Kreidberg2015.dat')*100  # Factor 100 to convert it to %"
   ]
  },
  {
   "cell_type": "markdown",
   "metadata": {},
   "source": [
    "### Define the metadata of the datasets.\n",
    "\n",
    "There are 13 features, which are the 13 wavelength bins in the spectra.\n",
    "\n",
    "The number of targets, or parameters, is 5. "
   ]
  },
  {
   "cell_type": "code",
   "execution_count": null,
   "metadata": {},
   "outputs": [],
   "source": [
    "num_features = 13\n",
    "num_targets  = 5\n",
    "names        = ['T', r'H$_2$O', 'HCN', r'NH$_3$', r'$\\kappa$']"
   ]
  },
  {
   "cell_type": "markdown",
   "metadata": {},
   "source": [
    "### Split the training and testing datasets into features and targets"
   ]
  },
  {
   "cell_type": "code",
   "execution_count": null,
   "metadata": {},
   "outputs": [],
   "source": [
    "X_train = Train[:, :num_features]\n",
    "Y_train = Train[:, num_features:]\n",
    "\n",
    "X_test = Test[:, :num_features]\n",
    "Y_test = Test[:, num_features:]"
   ]
  },
  {
   "cell_type": "markdown",
   "metadata": {},
   "source": [
    "### Create the Random Forest and train it with the training data set.\n",
    "\n",
    "```n_estimators``` is the number of trees to train.\n",
    "\n",
    "```criterion``` defines the loss function, can be mse or mae,\n",
    "\n",
    "```n_jobs``` defines the number of processors to use, setting it to -1 will use the maximum available\n",
    "\n",
    "```max_features``` defines the subset of features (selected randomly) that the trees will look at to make the split\n",
    "\n",
    "```min_impurity_decrease``` is the minimum reduction in variance required for a branch to split. "
   ]
  },
  {
   "cell_type": "code",
   "execution_count": null,
   "metadata": {
    "scrolled": true
   },
   "outputs": [],
   "source": [
    "N_trees = 100\n",
    "\n",
    "model = sk.ensemble.RandomForestRegressor(n_estimators=N_trees, criterion='mse', n_jobs=-1, \n",
    "                                          max_features=4, min_impurity_decrease=0.01)\n",
    "\n",
    "model.fit(X_train, Y_train)"
   ]
  },
  {
   "cell_type": "markdown",
   "metadata": {},
   "source": [
    "### Evaluate the Random Forest\n",
    "\n",
    "Make predictions on the test dataset and plot them against the true values."
   ]
  },
  {
   "cell_type": "code",
   "execution_count": null,
   "metadata": {
    "scrolled": false
   },
   "outputs": [],
   "source": [
    "pred = model.predict(X_test)\n",
    "\n",
    "R2 = [sk.metrics.r2_score(Y_test[:,i], pred[:,i]) for i in range(len(Y_test[0]))]\n",
    "\n",
    "\n",
    "fig, axs = plt.subplots( 2, 3, figsize=(18,12) )\n",
    "\n",
    "c=0\n",
    "for i in range(2):\n",
    "    for j in range(3):\n",
    "        if c==num_targets:\n",
    "            break\n",
    "            \n",
    "        axs[i,j].scatter( Y_test[:,c], pred[:,c], alpha=.03, label = r'$R^2 = $' + str( round(R2[c], 2) ) )\n",
    "        axs[i,j].plot( [-13,3000], [-13,3000], 'r--' )\n",
    "        \n",
    "        axs[i,j].set_xlim( [min(Y_test[:,c]), max(Y_test[:,c])] )\n",
    "        axs[i,j].set_ylim( [min(Y_test[:,c]), max(Y_test[:,c])] )\n",
    "        \n",
    "        axs[i,j].set_xlabel('True ' + names[c])\n",
    "        axs[i,j].set_ylabel('Predicted ' + names[c])\n",
    "        axs[i,j].grid(True)\n",
    "        axs[i,j].legend()\n",
    "        c+=1\n",
    "\n",
    "axs[1,2].remove()\n",
    "plt.suptitle( r'$R^2=$ ' + str( round( np.mean(R2), 2 ) ) )\n",
    "plt.show()"
   ]
  },
  {
   "cell_type": "markdown",
   "metadata": {},
   "source": [
    "### WASP-12b retrieval\n",
    "\n",
    "Draw 100 samples of WASP-12b's spectrum scattered according to the errorbars of the observation."
   ]
  },
  {
   "cell_type": "code",
   "execution_count": null,
   "metadata": {},
   "outputs": [],
   "source": [
    "N_samples = 1000\n",
    "\n",
    "trans = WASP12b[:,1].reshape(1,13)\n",
    "noise = WASP12b[:,2].reshape(1,13)\n",
    "\n",
    "trans = np.repeat(trans, N_samples, axis=0)\n",
    "noise = np.repeat(noise, N_samples, axis=0)\n",
    "\n",
    "samples = trans + np.random.normal(scale=noise)\n",
    "\n",
    "plt.errorbar(0.01*WASP12b[:,0], trans[0], yerr=noise[0], fmt='k.-', capsize=3)\n",
    "plt.xlabel(r'$\\lambda$ ($\\mu m$)')\n",
    "plt.ylabel(r'$(R_P/R_S)^2$ (%)')\n",
    "plt.show()"
   ]
  },
  {
   "cell_type": "markdown",
   "metadata": {},
   "source": [
    "Get the individual predictions of the trees in the Random Forest"
   ]
  },
  {
   "cell_type": "code",
   "execution_count": null,
   "metadata": {},
   "outputs": [],
   "source": [
    "per_tree_pred = np.array([tree.predict(samples) for tree in model.estimators_])\n",
    "\n",
    "per_tree_flat = per_tree_pred.reshape(N_trees*N_samples, num_targets)"
   ]
  },
  {
   "cell_type": "markdown",
   "metadata": {},
   "source": [
    "Plot the individual predictions of the trees in a corner plot. This shows us the posterior probability distribution of the parameters. Blue lines from Nested Sampling retrieval in Márquez-Neila et al (2018)."
   ]
  },
  {
   "cell_type": "code",
   "execution_count": null,
   "metadata": {},
   "outputs": [],
   "source": [
    "CORNER_KWARGS = dict(\n",
    "    smooth=.75,\n",
    "    label_kwargs=dict(fontsize=16),\n",
    "    title_kwargs=dict(fontsize=16),\n",
    "    quantiles=[0.16, 0.5, 0.84],\n",
    "    show_titles=True,\n",
    "    truths=[1105, -3, -8.5, -8.4, -2.8],\n",
    "    range=[(500,3000),(-13,0),(-13,0),(-13,0),(-13,3)]\n",
    ")\n",
    "\n",
    "fig=corner(per_tree_flat, labels=names, **CORNER_KWARGS)"
   ]
  }
 ],
 "metadata": {
  "kernelspec": {
   "display_name": "Python 3",
   "language": "python",
   "name": "python3"
  },
  "language_info": {
   "codemirror_mode": {
    "name": "ipython",
    "version": 3
   },
   "file_extension": ".py",
   "mimetype": "text/x-python",
   "name": "python",
   "nbconvert_exporter": "python",
   "pygments_lexer": "ipython3",
   "version": "3.8.5"
  }
 },
 "nbformat": 4,
 "nbformat_minor": 4
}
