{
 "cells": [
  {
   "cell_type": "markdown",
   "id": "needed-telling",
   "metadata": {},
   "source": [
    "# Load data"
   ]
  },
  {
   "cell_type": "code",
   "execution_count": 3,
   "id": "genetic-ambassador",
   "metadata": {},
   "outputs": [],
   "source": [
    "import numpy as np"
   ]
  },
  {
   "cell_type": "code",
   "execution_count": 86,
   "id": "million-coupon",
   "metadata": {},
   "outputs": [],
   "source": [
    "X_train=np.load('../../Data/Protoplanetary_disk_problem/X_train.npy')\n",
    "X_test=np.load('../../Data/Protoplanetary_disk_problem/X_test.npy')\n",
    "y_train=np.load('../../Data/Protoplanetary_disk_problem/y_train.npy')\n",
    "y_test=np.load('../../Data/Protoplanetary_disk_problem/y_test.npy')"
   ]
  },
  {
   "cell_type": "code",
   "execution_count": 87,
   "id": "indie-active",
   "metadata": {},
   "outputs": [],
   "source": [
    "position=np.load('../../Data/Protoplanetary_disk_problem/position.npy')"
   ]
  },
  {
   "cell_type": "code",
   "execution_count": 88,
   "id": "mental-earthquake",
   "metadata": {},
   "outputs": [
    {
     "name": "stdout",
     "output_type": "stream",
     "text": [
      "-42.89640311285007\n"
     ]
    }
   ],
   "source": [
    "print(np.min(y_test))"
   ]
  }
 ],
 "metadata": {
  "kernelspec": {
   "display_name": "Python 3",
   "language": "python",
   "name": "python3"
  },
  "language_info": {
   "codemirror_mode": {
    "name": "ipython",
    "version": 3
   },
   "file_extension": ".py",
   "mimetype": "text/x-python",
   "name": "python",
   "nbconvert_exporter": "python",
   "pygments_lexer": "ipython3",
   "version": "3.8.5"
  }
 },
 "nbformat": 4,
 "nbformat_minor": 5
}
