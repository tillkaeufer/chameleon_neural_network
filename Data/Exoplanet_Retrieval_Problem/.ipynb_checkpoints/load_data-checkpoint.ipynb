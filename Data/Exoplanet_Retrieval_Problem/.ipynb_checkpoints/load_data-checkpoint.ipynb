{
 "cells": [
  {
   "cell_type": "code",
   "execution_count": 1,
   "metadata": {},
   "outputs": [],
   "source": [
    "import numpy as np\n",
    "from sklearn.preprocessing import StandardScaler, RobustScaler, MinMaxScaler\n"
   ]
  },
  {
   "cell_type": "markdown",
   "metadata": {},
   "source": [
    "### Load the data\n",
    "\n",
    "```Train``` contains the training set of 80,000 synthetic spectra.\n",
    "\n",
    "```Test``` contains 20,000 synthetic spectra to evaluate the neural network once trained.\n",
    "\n",
    "```WASP12b``` contains the HST/WFC3 spectrum of WASP-12b, taken from Kreidberg et al., 2015."
   ]
  },
  {
   "cell_type": "code",
   "execution_count": null,
   "metadata": {},
   "outputs": [],
   "source": [
    "Train   = np.load('../Data/Exoplanet_Retrieval_Problem/training.npy')\n",
    "Test    = np.load('../Data/Exoplanet_Retrieval_Problem/example_dataset/testing.npy')\n",
    "WASP12b = np.loadtxt('../Data/Exoplanet_Retrieval_Problem/WASP-12b_Kreidberg2015.dat')*100  # Factor 100 to convert it to %"
   ]
  },
  {
   "cell_type": "markdown",
   "metadata": {},
   "source": [
    "### Define the metadata of the datasets.\n",
    "\n",
    "There are 13 features, which are the 13 wavelength bins in the spectra.\n",
    "\n",
    "The number of targets, or parameters, is 5. "
   ]
  },
  {
   "cell_type": "code",
   "execution_count": null,
   "metadata": {},
   "outputs": [],
   "source": [
    "num_features = 13\n",
    "num_targets  = 5\n",
    "names        = ['T', r'H$_2$O', 'HCN', r'NH$_3$', r'$\\kappa$']"
   ]
  },
  {
   "cell_type": "markdown",
   "metadata": {},
   "source": [
    "### Split the training and testing datasets into features and targets, and normalize the data"
   ]
  },
  {
   "cell_type": "code",
   "execution_count": null,
   "metadata": {},
   "outputs": [],
   "source": [
    "X_train = Train[:, :num_features]\n",
    "Y_train = Train[:, num_features:]\n",
    "\n",
    "X_test = Test[:, :num_features]\n",
    "Y_test = Test[:, num_features:]\n",
    "\n"
   ]
  }
 ],
 "metadata": {
  "kernelspec": {
   "display_name": "Python 3",
   "language": "python",
   "name": "python3"
  },
  "language_info": {
   "codemirror_mode": {
    "name": "ipython",
    "version": 3
   },
   "file_extension": ".py",
   "mimetype": "text/x-python",
   "name": "python",
   "nbconvert_exporter": "python",
   "pygments_lexer": "ipython3",
   "version": "3.8.5"
  }
 },
 "nbformat": 4,
 "nbformat_minor": 4
}
