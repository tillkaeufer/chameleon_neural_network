{
 "cells": [
  {
   "cell_type": "code",
   "execution_count": null,
   "metadata": {},
   "outputs": [],
   "source": [
    "import numpy as np\n",
    "import sklearn as sk\n",
    "from sklearn import ensemble\n",
    "from sklearn.preprocessing import StandardScaler, RobustScaler, MinMaxScaler\n",
    "import tensorflow as tf\n",
    "tfk=tf.keras\n",
    "import matplotlib.pyplot as plt\n",
    "from corner import corner"
   ]
  },
  {
   "cell_type": "markdown",
   "metadata": {},
   "source": [
    "### Plot the learning process of the Neural Network"
   ]
  },
  {
   "cell_type": "code",
   "execution_count": null,
   "metadata": {},
   "outputs": [],
   "source": [
    "plt.figure(figsize=(8,6))\n",
    "plt.plot(history.history['loss'],label='train')\n",
    "plt.plot(history.history['val_loss'],label='val')\n",
    "plt.ylim([0.002,0.006])\n",
    "plt.legend()"
   ]
  },
  {
   "cell_type": "markdown",
   "metadata": {},
   "source": [
    "### Evaluate the Neural Network\n",
    "\n",
    "Make predictions on the test dataset and plot them against the true values."
   ]
  },
  {
   "cell_type": "code",
   "execution_count": null,
   "metadata": {
    "scrolled": false
   },
   "outputs": [],
   "source": [
    "pred = model.predict(X_test)\n",
    "\n",
    "if norm_y:\n",
    "    pred   = Y_scaler.inverse_transform(pred)\n",
    "\n",
    "R2 = [sk.metrics.r2_score(Y_test[:,i], pred[:,i]) for i in range(len(Y_test[0]))]\n",
    "\n",
    "\n",
    "fig, axs = plt.subplots( 2, 3, figsize=(18,12) )\n",
    "\n",
    "c=0\n",
    "for i in range(2):\n",
    "    for j in range(3):\n",
    "        if c==num_targets:\n",
    "            break\n",
    "            \n",
    "        axs[i,j].scatter( Y_test[:,c], pred[:,c], alpha=.03, label = r'$R^2 = $' + str( round(R2[c], 2) ) )\n",
    "        axs[i,j].plot( [-13,3000], [-13,3000], 'r--' )\n",
    "        \n",
    "        axs[i,j].set_xlim( [min(Y_test[:,c]), max(Y_test[:,c])] )\n",
    "        axs[i,j].set_ylim( [min(Y_test[:,c]), max(Y_test[:,c])] )\n",
    "        \n",
    "        axs[i,j].set_xlabel('True ' + names[c])\n",
    "        axs[i,j].set_ylabel('Predicted ' + names[c])\n",
    "        axs[i,j].grid(True)\n",
    "        axs[i,j].legend()\n",
    "        c+=1\n",
    "\n",
    "axs[1,2].remove()\n",
    "plt.suptitle( r'$R^2=$ ' + str( round( np.mean(R2), 2 ) ) )\n",
    "plt.show()"
   ]
  },
  {
   "cell_type": "markdown",
   "metadata": {},
   "source": [
    "### WASP-12b retrieval\n",
    "\n",
    "Draw 100 samples of WASP-12b's spectrum scattered according to the errorbars of the observation."
   ]
  },
  {
   "cell_type": "code",
   "execution_count": null,
   "metadata": {},
   "outputs": [],
   "source": [
    "N_samples = 10000\n",
    "\n",
    "trans = WASP12b[:,1].reshape(1,13)\n",
    "noise = WASP12b[:,2].reshape(1,13)\n",
    "\n",
    "trans = np.repeat(trans, N_samples, axis=0)\n",
    "noise = np.repeat(noise, N_samples, axis=0)\n",
    "\n",
    "samples = trans + np.random.normal(scale=noise)\n",
    "\n",
    "plt.errorbar(0.01*WASP12b[:,0], trans[0], yerr=noise[0], fmt='k.-', capsize=3)\n",
    "plt.xlabel(r'$\\lambda$ ($\\mu m$)')\n",
    "plt.ylabel(r'$(R_P/R_S)^2$ (%)')\n",
    "plt.show()"
   ]
  },
  {
   "cell_type": "markdown",
   "metadata": {},
   "source": [
    "Get the predictions of the Neural Network."
   ]
  },
  {
   "cell_type": "code",
   "execution_count": null,
   "metadata": {
    "hidePrompt": true
   },
   "outputs": [],
   "source": [
    "if norm_x:\n",
    "    samples = X_scaler.transform(samples)\n",
    "\n",
    "w12b_pred = model.predict(samples)\n",
    "\n",
    "if norm_y:\n",
    "    w12b_pred = Y_scaler.inverse_transform(w12b_pred)"
   ]
  },
  {
   "cell_type": "markdown",
   "metadata": {},
   "source": [
    "Plot the predictions in a corner plot. This shows us the posterior probability distribution of the parameters. Blue lines from Nested Sampling retrieval in Márquez-Neila et al (2018)."
   ]
  },
  {
   "cell_type": "code",
   "execution_count": null,
   "metadata": {
    "scrolled": false
   },
   "outputs": [],
   "source": [
    "CORNER_KWARGS = dict(\n",
    "    smooth=.75,\n",
    "    label_kwargs=dict(fontsize=16),\n",
    "    title_kwargs=dict(fontsize=16),\n",
    "    quantiles=[0.16, 0.5, 0.84],\n",
    "    show_titles=True,\n",
    "    truths=[1105, -3, -8.5, -8.4, -2.8],\n",
    "    range=[(500,3000),(-13,0),(-13,0),(-13,0),(-13,3)]\n",
    ")\n",
    "\n",
    "fig=corner(w12b_pred, labels=names, **CORNER_KWARGS)"
   ]
  }
 ],
 "metadata": {
  "kernelspec": {
   "display_name": "Python 3",
   "language": "python",
   "name": "python3"
  },
  "language_info": {
   "codemirror_mode": {
    "name": "ipython",
    "version": 3
   },
   "file_extension": ".py",
   "mimetype": "text/x-python",
   "name": "python",
   "nbconvert_exporter": "python",
   "pygments_lexer": "ipython3",
   "version": "3.8.5"
  }
 },
 "nbformat": 4,
 "nbformat_minor": 4
}
