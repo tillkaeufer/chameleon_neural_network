{
 "cells": [
  {
   "cell_type": "markdown",
   "id": "shaped-butter",
   "metadata": {},
   "source": [
    "### Create the Random Forest and train it with the training data set.\n",
    "\n",
    "```n_estimators``` is the number of trees to train.\n",
    "\n",
    "```criterion``` defines the loss function, can be mse or mae,\n",
    "\n",
    "```n_jobs``` defines the number of processors to use, setting it to -1 will use the maximum available\n",
    "\n",
    "```max_features``` defines the subset of features (selected randomly) that the trees will look at to make the split\n",
    "\n",
    "```min_impurity_decrease``` is the minimum reduction in variance required for a branch to split. "
   ]
  },
  {
   "cell_type": "code",
   "execution_count": 8,
   "id": "radical-moore",
   "metadata": {},
   "outputs": [],
   "source": [
    "\n",
    "import sklearn as sk\n",
    "from sklearn import ensemble"
   ]
  },
  {
   "cell_type": "code",
   "execution_count": 9,
   "id": "productive-montreal",
   "metadata": {},
   "outputs": [
    {
     "data": {
      "text/plain": [
       "RandomForestRegressor(max_features=11, min_impurity_decrease=0.01, n_jobs=-1)"
      ]
     },
     "execution_count": 9,
     "metadata": {},
     "output_type": "execute_result"
    }
   ],
   "source": [
    "N_trees = 100\n",
    "\n",
    "model = sk.ensemble.RandomForestRegressor(n_estimators=N_trees, criterion='mse', n_jobs=-1, \n",
    "                                          max_features=11, min_impurity_decrease=0.01)\n",
    "\n",
    "model.fit(X_train, y_train)"
   ]
  }
 ],
 "metadata": {
  "kernelspec": {
   "display_name": "Python 3",
   "language": "python",
   "name": "python3"
  },
  "language_info": {
   "codemirror_mode": {
    "name": "ipython",
    "version": 3
   },
   "file_extension": ".py",
   "mimetype": "text/x-python",
   "name": "python",
   "nbconvert_exporter": "python",
   "pygments_lexer": "ipython3",
   "version": "3.8.5"
  }
 },
 "nbformat": 4,
 "nbformat_minor": 5
}
