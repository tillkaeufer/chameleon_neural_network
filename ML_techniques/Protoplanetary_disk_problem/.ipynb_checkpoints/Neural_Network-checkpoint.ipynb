{
 "cells": [
  {
   "cell_type": "markdown",
   "id": "monthly-windows",
   "metadata": {},
   "source": [
    "# NN"
   ]
  },
  {
   "cell_type": "code",
   "execution_count": null,
   "id": "stylish-translation",
   "metadata": {},
   "outputs": [],
   "source": [
    "from tensorflow.keras.layers import Dense, Activation, Input, Dropout\n",
    "from tensorflow.keras.models import Model, load_model\n",
    "from tensorflow.keras.optimizers import SGD"
   ]
  },
  {
   "cell_type": "code",
   "execution_count": null,
   "id": "fitted-rolling",
   "metadata": {},
   "outputs": [],
   "source": [
    "#----------------------------------------------------------------------\n",
    "# hyperparameters\n",
    "#----------------------------------------------------------------------\n",
    "learning_rate=0.01\n",
    "n_neurons=4\n",
    "activation='relu' #https://keras.io/api/layers/activations/\n",
    "layers=1\n",
    "dropout=0.00\n",
    "loss=\"mean_squared_error\" #https://keras.io/api/losses/\n",
    "\n",
    "\n",
    "optimizer = SGD(lr=learning_rate) #https://keras.io/api/optimizers/v\n",
    "\n",
    "#----------------------------------------------------------------------\n",
    "\n",
    "n_classes=len(y_train[0])\n",
    "\n",
    "#input layer\n",
    "input_layer = Input(shape=(np.shape(X_train)[1],))\n",
    "model = Dense(\n",
    "    n_neurons,\n",
    "    activation=activation\n",
    ")(input_layer)\n",
    "\n",
    "\n",
    "#hidden layers\n",
    "for layer in range(layers-1):\n",
    "    model = Dense(\n",
    "                n_neurons,\n",
    "                activation=activation\n",
    "                )(model)\n",
    "    if dropout>0.0:\n",
    "        model=Dropout(dropout)(model)\n",
    "\n",
    "\n",
    "# Output Layer\n",
    "output = Dense(n_classes, activation=\"linear\")(model)\n",
    "\n",
    "model = Model(input_layer, output)\n",
    "\n",
    "# Compiling model\n",
    "model.compile(\n",
    "    loss=loss,\n",
    "    optimizer=optimizer,\n",
    "    metrics=[\"mean_squared_error\"]\n",
    ")\n",
    "model.summary()"
   ]
  },
  {
   "cell_type": "markdown",
   "id": "american-sweet",
   "metadata": {},
   "source": [
    "# Training"
   ]
  },
  {
   "cell_type": "code",
   "execution_count": null,
   "id": "collaborative-tracker",
   "metadata": {},
   "outputs": [],
   "source": [
    "history=model.fit(X_train, y_train, epochs=10, validation_data=(X_test, y_test))"
   ]
  },
  {
   "cell_type": "code",
   "execution_count": null,
   "id": "severe-rapid",
   "metadata": {},
   "outputs": [],
   "source": []
  }
 ],
 "metadata": {
  "kernelspec": {
   "display_name": "Python 3",
   "language": "python",
   "name": "python3"
  },
  "language_info": {
   "codemirror_mode": {
    "name": "ipython",
    "version": 3
   },
   "file_extension": ".py",
   "mimetype": "text/x-python",
   "name": "python",
   "nbconvert_exporter": "python",
   "pygments_lexer": "ipython3",
   "version": "3.8.5"
  }
 },
 "nbformat": 4,
 "nbformat_minor": 5
}
